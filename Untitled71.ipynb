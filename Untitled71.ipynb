{
  "nbformat": 4,
  "nbformat_minor": 0,
  "metadata": {
    "colab": {
      "private_outputs": true,
      "provenance": [],
      "authorship_tag": "ABX9TyOyzZPSrictRSBO6eoiyquT",
      "include_colab_link": true
    },
    "kernelspec": {
      "name": "python3",
      "display_name": "Python 3"
    },
    "language_info": {
      "name": "python"
    }
  },
  "cells": [
    {
      "cell_type": "markdown",
      "metadata": {
        "id": "view-in-github",
        "colab_type": "text"
      },
      "source": [
        "<a href=\"https://colab.research.google.com/github/mablus/AutoDispatch/blob/main/Untitled71.ipynb\" target=\"_parent\"><img src=\"https://colab.research.google.com/assets/colab-badge.svg\" alt=\"Open In Colab\"/></a>"
      ]
    },
    {
      "cell_type": "code",
      "execution_count": null,
      "metadata": {
        "id": "-tRw7kCCPW0n"
      },
      "outputs": [],
      "source": [
        "from google.colab import files\n",
        "uploaded_file = files.upload()\n",
        "pdf_filename = list(uploaded_file.keys())[0]"
      ]
    },
    {
      "cell_type": "code",
      "source": [
        "pdf_path = pdf_filename"
      ],
      "metadata": {
        "id": "oGQlMnkAPpcS"
      },
      "execution_count": null,
      "outputs": []
    },
    {
      "cell_type": "code",
      "source": [
        "!pip install PyMuPDF"
      ],
      "metadata": {
        "id": "NWYBvYyhQxp4"
      },
      "execution_count": null,
      "outputs": []
    },
    {
      "cell_type": "code",
      "source": [
        "!sudo apt-get install -y libcrypt-dev"
      ],
      "metadata": {
        "id": "uV5cBpmmRi7a"
      },
      "execution_count": null,
      "outputs": []
    },
    {
      "cell_type": "code",
      "source": [
        "pip install PyPDF2"
      ],
      "metadata": {
        "id": "u8VKJ7aPSGgy"
      },
      "execution_count": null,
      "outputs": []
    },
    {
      "cell_type": "code",
      "source": [
        "import re\n",
        "from google.colab import files\n",
        "import PyPDF2\n",
        "\n",
        "def recognize_flight_plan(text):\n",
        "    keywords = ['flight number', 'origin', 'destination', 'alternate', 'orgn', 'dest', 'altrn', 'altn', 'mzfw', 'tow']\n",
        "\n",
        "    for keyword in keywords:\n",
        "        if re.search(keyword, text, re.IGNORECASE):\n",
        "            return True\n",
        "    return False\n",
        "\n",
        "# Function to extract text from PDF\n",
        "def extract_text_from_pdf(pdf_path):\n",
        "    with open(pdf_path, 'rb') as pdf_file:\n",
        "        pdf_reader = PyPDF2.PdfReader(pdf_file)\n",
        "        text = ''\n",
        "        for page_num in range(len(pdf_reader.pages)):\n",
        "            page = pdf_reader.pages[page_num]\n",
        "            text += page.extract_text()\n",
        "    return text\n",
        "\n",
        "# Specify the path to your PDF file\n",
        "pdf_path = '/content/FP_PRIOC_SJKBSB.pdf'\n",
        "pdf_text = extract_text_from_pdf(pdf_path)\n",
        "\n",
        "if recognize_flight_plan(pdf_text):\n",
        "    print(\"Recognized as a flight plan.\")\n",
        "else:\n",
        "    print(\"Not recognized as a flight plan.\")"
      ],
      "metadata": {
        "id": "Qzrix6JiSKf2"
      },
      "execution_count": null,
      "outputs": []
    }
  ]
}