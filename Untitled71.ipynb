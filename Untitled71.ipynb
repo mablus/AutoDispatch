{
  "nbformat": 4,
  "nbformat_minor": 0,
  "metadata": {
    "colab": {
      "private_outputs": true,
      "provenance": [],
      "authorship_tag": "ABX9TyNqwHDOz1bf2nyJZMnBvFif",
      "include_colab_link": true
    },
    "kernelspec": {
      "name": "python3",
      "display_name": "Python 3"
    },
    "language_info": {
      "name": "python"
    }
  },
  "cells": [
    {
      "cell_type": "markdown",
      "metadata": {
        "id": "view-in-github",
        "colab_type": "text"
      },
      "source": [
        "<a href=\"https://colab.research.google.com/github/mablus/AutoDispatch/blob/main/Untitled71.ipynb\" target=\"_parent\"><img src=\"https://colab.research.google.com/assets/colab-badge.svg\" alt=\"Open In Colab\"/></a>"
      ]
    },
    {
      "cell_type": "code",
      "execution_count": null,
      "metadata": {
        "id": "-tRw7kCCPW0n"
      },
      "outputs": [],
      "source": [
        "from google.colab import files\n",
        "uploaded_file = files.upload()\n",
        "pdf_filename = list(uploaded_file.keys())[0]"
      ]
    },
    {
      "cell_type": "code",
      "source": [
        "pdf_path = pdf_filename"
      ],
      "metadata": {
        "id": "oGQlMnkAPpcS"
      },
      "execution_count": null,
      "outputs": []
    },
    {
      "cell_type": "code",
      "source": [
        "!pip install PyMuPDF"
      ],
      "metadata": {
        "id": "NWYBvYyhQxp4"
      },
      "execution_count": null,
      "outputs": []
    },
    {
      "cell_type": "code",
      "source": [
        "!sudo apt-get install -y libcrypt-dev"
      ],
      "metadata": {
        "id": "uV5cBpmmRi7a"
      },
      "execution_count": null,
      "outputs": []
    },
    {
      "cell_type": "code",
      "source": [
        "pip install PyPDF2"
      ],
      "metadata": {
        "id": "u8VKJ7aPSGgy"
      },
      "execution_count": null,
      "outputs": []
    },
    {
      "cell_type": "code",
      "source": [
        "import re\n",
        "from google.colab import files\n",
        "import PyPDF2\n",
        "\n",
        "def recognize_flight_plan(text):\n",
        "    keywords = ['flight number', 'origin', 'destination', 'alternate', 'orgn', 'org', 'dst' ,'dest', 'altrn', 'altn', 'mzfw', 'tow','ETOW','ELDW','EZFW','EPLD','MLDW','MZFW']\n",
        "\n",
        "    for keyword in keywords:\n",
        "        if re.search(keyword, text, re.IGNORECASE):\n",
        "            return True\n",
        "    return False\n",
        "\n",
        "# Function to extract text from PDF\n",
        "def extract_text_from_pdf(pdf_path):\n",
        "    with open(pdf_path, 'rb') as pdf_file:\n",
        "        pdf_reader = PyPDF2.PdfReader(pdf_file)\n",
        "        text = ''\n",
        "        for page_num in range(len(pdf_reader.pages)):\n",
        "            page = pdf_reader.pages[page_num]\n",
        "            text += page.extract_text()\n",
        "    return text\n",
        "\n",
        "# Specify the path to your PDF file\n",
        "pdf_path = '/content/FP_PRIOC_SJKBSB.pdf'\n",
        "#pdf_path = input(\"Enter the path to the PDF file: \") caminho do site\n",
        "pdf_text = extract_text_from_pdf(pdf_path)\n",
        "\n",
        "if recognize_flight_plan(pdf_text):\n",
        "    print(\"Recognized as a flight plan.\")\n",
        "else:\n",
        "    print(\"Not recognized as a flight plan.\")"
      ],
      "metadata": {
        "id": "Qzrix6JiSKf2"
      },
      "execution_count": null,
      "outputs": []
    },
    {
      "cell_type": "code",
      "source": [
        "\n",
        "\n",
        "def recognize_flight_plan(text):\n",
        "    keywords = ['flight number', 'origin', 'destination', 'alternate', 'orgn', 'dest', 'altrn', 'altn', 'mzfw', 'tow']\n",
        "\n",
        "    for keyword in keywords:\n",
        "        if re.search(keyword, text, re.IGNORECASE):\n",
        "            return True\n",
        "    return False\n",
        "\n",
        "def extract_fuel_data(text):\n",
        "    fuel_data = {}\n",
        "\n",
        "    fuel_pattern = r\"TRIP (\\d+) (\\d+\\.\\d+) (\\d+) (\\d+) ETOW (\\d+) MTOW (\\d+)\\s+ALTN/(\\w{4}) (\\d+) (\\d+\\.\\d+) (\\d+) (\\d+) ELDW (\\d+) MLDW (\\d+)\\s+RESERVE \\(10%\\) (\\d+) (\\d+\\.\\d+) EZFW (\\d+) MZFW (\\d+)\\s+HOLDING (\\d+) (\\d+\\.\\d+) EPLD (\\d+)\\s+MIN FUEL REQ (\\d+) (\\d+\\.\\d+) OPNLWT (\\d+)\\s+CONTINGENCY\"\n",
        "\n",
        "    fuel_match = re.search(fuel_pattern, text)\n",
        "    if fuel_match:\n",
        "        fuel_data['trip_dist'] = int(fuel_match.group(1))\n",
        "        fuel_data['trip_time'] = float(fuel_match.group(2))\n",
        "        fuel_data['trip_fuel'] = int(fuel_match.group(3))\n",
        "        fuel_data['planned_fuel'] = int(fuel_match.group(4))\n",
        "        fuel_data['etow'] = int(fuel_match.group(5))\n",
        "        fuel_data['mtow'] = int(fuel_match.group(6))\n",
        "        fuel_data['altn'] = fuel_match.group(7)\n",
        "        fuel_data['altn_dist'] = int(fuel_match.group(8))\n",
        "        fuel_data['altn_time'] = float(fuel_match.group(9))\n",
        "        fuel_data['altn_fuel'] = int(fuel_match.group(10))\n",
        "        fuel_data['altn_planned_fuel'] = int(fuel_match.group(11))\n",
        "        fuel_data['eldw'] = int(fuel_match.group(12))\n",
        "        fuel_data['mldw'] = int(fuel_match.group(13))\n",
        "        fuel_data['reserve_fuel'] = int(fuel_match.group(14))\n",
        "        fuel_data['reserve_time'] = float(fuel_match.group(15))\n",
        "        fuel_data['ezfw'] = int(fuel_match.group(16))\n",
        "        fuel_data['mzfw'] = int(fuel_match.group(17))\n",
        "        fuel_data['holding_dist'] = int(fuel_match.group(18))\n",
        "        fuel_data['holding_time'] = float(fuel_match.group(19))\n",
        "        fuel_data['epld'] = int(fuel_match.group(20))\n",
        "        fuel_data['min_fuel_req'] = int(fuel_match.group(21))\n",
        "        fuel_data['min_fuel_time'] = float(fuel_match.group(22))\n",
        "        fuel_data['opnlwt'] = int(fuel_match.group(23))\n",
        "\n",
        "    return fuel_data\n",
        "\n",
        "# Function to extract text from PDF\n",
        "\"\"\"def extract_text_from_pdf(pdf_path):\n",
        "    with open(pdf_path, 'rb') as pdf_file:\n",
        "        pdf_reader = PyPDF2.PdfReader(pdf_file)\n",
        "        text = ''\n",
        "        for page_num in range(len(pdf_reader.pages)):\n",
        "            page = pdf_reader.pages[page_num]\n",
        "            text += page.extract_text()\n",
        "    return text\n",
        "\n",
        "# Get the PDF file path as input from the user\n",
        "pdf_path = input(\"Enter the path to the PDF file: \")\n",
        "pdf_text = extract_text_from_pdf(pdf_path)\"\"\"\n",
        "\n",
        "if recognize_flight_plan(pdf_text):\n",
        "    print(\"Recognized as a flight plan.\")\n",
        "\n",
        "    fuel_data = extract_fuel_data(pdf_text)\n",
        "\n",
        "    # Check if any extracted number is less than or equal to 0\n",
        "    has_invalid_numbers = any(value <= 0 for value in fuel_data.values())\n",
        "\n",
        "    if has_invalid_numbers:\n",
        "        print(\"Invalid numbers detected. Check your flight plan.\")\n",
        "    else:\n",
        "        print(\"Valid flight plan.\")\n",
        "\n",
        "else:\n",
        "    print(\"Not recognized as a flight plan.\")"
      ],
      "metadata": {
        "id": "pXm48SQelyJw"
      },
      "execution_count": null,
      "outputs": []
    }
  ]
}